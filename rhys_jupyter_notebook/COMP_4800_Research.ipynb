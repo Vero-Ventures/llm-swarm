{
 "cells": [
  {
   "cell_type": "code",
   "execution_count": 3,
   "id": "2b3bda8a-0556-4213-aa48-600b016b7fe8",
   "metadata": {},
   "outputs": [],
   "source": [
    "# Used to track the request processing time\n",
    "import time\n",
    "\n",
    "from textwrap import dedent\n",
    "from langchain_community.llms import Ollama\n",
    "from crewai import Crew, Agent, Task"
   ]
  },
  {
   "cell_type": "code",
   "execution_count": 4,
   "id": "bab0d952-ef7a-4017-acf0-e279f97d5367",
   "metadata": {},
   "outputs": [],
   "source": [
    "'''\n",
    "Initialize Llama3 LLM for agents.\n",
    "This will access local models in the standard installation directory\n",
    "'''\n",
    "llm = Ollama(model=\"NEW_MODEL\")"
   ]
  },
  {
   "cell_type": "code",
   "execution_count": 6,
   "id": "c2e2f949",
   "metadata": {},
   "outputs": [
    {
     "data": {
      "text/plain": [
       "'Hwæt! Hear me, I shall tell thee a jest most merry!\\n\\nWhy did the wight go to the alehouse?\\n\\nForsooth, \\'twas because he heard they had a \"ghoul\" time! (get it? ghoul... good... haha)\\n\\nHwæt! Didst thou find that joke amusing, good sir or madam?'"
      ]
     },
     "execution_count": 6,
     "metadata": {},
     "output_type": "execute_result"
    }
   ],
   "source": [
    "'''\n",
    "Uncomment the below line to test if the loaded model\n",
    "works and is indeed a custom model.\n",
    "'''\n",
    "llm.invoke(\"Tell me a joke\")"
   ]
  },
  {
   "cell_type": "markdown",
   "id": "9eedb24b",
   "metadata": {},
   "source": [
    "# Create Agents"
   ]
  },
  {
   "cell_type": "code",
   "execution_count": null,
   "id": "a88400da",
   "metadata": {},
   "outputs": [],
   "source": [
    "class FunctionTestAgents:\n",
    "\n",
    "    def variable_name_agent(self):\n",
    "        return Agent(\n",
    "            role='Variable Name Agent',\n",
    "            goal='Ensure that variable names are descriptive, concise, and accurate.',\n",
    "            backstory=dedent(\n",
    "                '''\n",
    "                You're an expect agent that helps developers write clean, efficient code.\n",
    "                Your job is to ensure that variable names are descriptive, concise, and accurate.\n",
    "                Do not add comments to the code.\n",
    "                '''),\n",
    "            allow_delegation=False,\n",
    "            verbose=True,\n",
    "            llm=llm\n",
    "    )\n",
    "\n",
    "    def code_comment_agent(self):\n",
    "        return Agent(\n",
    "            role='Code Comment Agent',\n",
    "            goal='Add comments to code to explain its purpose and functionality. Only add comments that are necessary for a user to understand the code.',\n",
    "            backstory=dedent(\n",
    "                '''\n",
    "                You're an expect code commentor. Your job is to add comments to the code to explain its purpose and functionality. Only add comments that\n",
    "                are necessary for a user to understand the code. You're aware that code should be self-explanatory whenever possible, and that comments\n",
    "                should only be used to explain complex or non-obvious parts of the code.\n",
    "                '''),\n",
    "            allow_delegation=False,\n",
    "            verbose=True,\n",
    "            llm=llm\n",
    "    )\n",
    "\n",
    "    def documentation_agent(self):\n",
    "        return Agent(\n",
    "            role='Documentation Agent',\n",
    "            goal='Document code in a way that is easy to understand and follow.',\n",
    "            backstory=dedent(\n",
    "                '''\n",
    "                You're an expert in writing docstrings. Your documentation is clear, concise, accurate, and easy to understand.\n",
    "                '''),\n",
    "            allow_delegation=False,\n",
    "            verbose=True,\n",
    "            llm=llm\n",
    "    )"
   ]
  },
  {
   "cell_type": "markdown",
   "id": "c59d1214",
   "metadata": {},
   "source": [
    "# Create Tasks"
   ]
  },
  {
   "cell_type": "code",
   "execution_count": null,
   "id": "3ff90e82",
   "metadata": {},
   "outputs": [],
   "source": [
    "class FunctionTestTasks:\n",
    "\n",
    "    def improve_variable_names(self, agent, request):\n",
    "        return Task(\n",
    "            description=dedent(\n",
    "                f'''\n",
    "                Receive Python code. Ensure that all variable names are descriptive, concise, and accurate.\n",
    "                Do not add comments to the code.\n",
    "\n",
    "                Code\n",
    "                ----\n",
    "                {request}\n",
    "                '''),\n",
    "            expected_output=dedent(\n",
    "                '''\n",
    "                Python code with improved variable names\n",
    "                '''),\n",
    "                agent=agent\n",
    "        )\n",
    "\n",
    "    def add_code_comments(self, agent, request):\n",
    "        return Task(\n",
    "            description=dedent(\n",
    "                f'''\n",
    "                Receive Python code. Add comments to the code to explain its purpose and functionality.\n",
    "                Only add comments that are necessary for a user to understand the code. If a line of\n",
    "                code is self-explanatory, do not add a comment.\n",
    "\n",
    "                Code\n",
    "                ----\n",
    "                {request}\n",
    "                '''),\n",
    "            expected_output=dedent(\n",
    "                '''\n",
    "                Python code with added comments\n",
    "                '''),\n",
    "                agent=agent\n",
    "        )\n",
    "\n",
    "    def review_code_comments(self, agent, request):\n",
    "        return Task(\n",
    "            description=dedent(\n",
    "                f'''\n",
    "                Receive Python code with comments. Review the code and ensure that all comments are\n",
    "                accurate and helpful. If a comment is not necessary, remove it.\n",
    "\n",
    "                Code\n",
    "                ----\n",
    "                {request}\n",
    "                '''),\n",
    "            expected_output=dedent(\n",
    "                '''\n",
    "                Python code with reviewed comments\n",
    "                '''),\n",
    "                agent=agent\n",
    "        )\n",
    "\n",
    "    def add_documentation(self, agent, request):\n",
    "        return Task(\n",
    "            description=dedent(\n",
    "                f'''\n",
    "                Add docstrings to the code to explain its purpose and functionality.\n",
    "                Ensure the documentation is clear, concise, accurate, and easy to understand.\n",
    "\n",
    "                Code\n",
    "                ----\n",
    "                {request}\n",
    "                '''),\n",
    "            expected_output=dedent(\n",
    "                '''\n",
    "                Python code with added documentation\n",
    "                '''),\n",
    "                agent=agent\n",
    "        )"
   ]
  },
  {
   "cell_type": "markdown",
   "id": "c3f643cf",
   "metadata": {},
   "source": [
    "# Main Code"
   ]
  },
  {
   "cell_type": "code",
   "execution_count": null,
   "id": "a1936a9b",
   "metadata": {},
   "outputs": [],
   "source": [
    "# Initialize Agents, Tasks\n",
    "agents = FunctionTestAgents()\n",
    "tasks = FunctionTestTasks()\n",
    "\n",
    "# CREATE AGENTS\n",
    "variable_name_agent = agents.variable_name_agent()\n",
    "# code_comment_agent = agents.code_comment_agent()\n",
    "# documentation_agent = agents.documentation_agent()\n",
    "\n",
    "print(\"##################################\")\n",
    "print(\"## Welcome to the Function Crew ##\")\n",
    "print(\"##################################\")\n",
    "\n",
    "game_request = input(\"Enter the code you want to improve: \")\n",
    "start_time = time.perf_counter()\n",
    "\n",
    "# CREATE TASKS\n",
    "improve_variable_names_task = tasks.improve_variable_names(variable_name_agent, game_request)\n",
    "# add_code_comments_task = tasks.add_code_comments(variable_name_agent, improve_variable_names_task)\n",
    "# add_documentation_task = tasks.add_documentation(variable_name_agent, improve_variable_names_task)\n",
    "\n",
    "# CREATE CREW & ASSIGN TAS\n",
    "crew = Crew(\n",
    "    agents = [\n",
    "        variable_name_agent,\n",
    "#         documentation_agent\n",
    "    ],\n",
    "    tasks = [\n",
    "        improve_variable_names_task,\n",
    "#         add_documentation_task\n",
    "    ],\n",
    "    verbose=True\n",
    ")\n",
    "\n",
    "output = crew.kickoff()\n",
    "end_time = time.perf_counter()\n",
    "\n",
    "print(\"################################\")\n",
    "print(\"## Refactored Function Output ##\")\n",
    "print(\"################################\")\n",
    "print(f\"## Time taken: {end_time - start_time:.2f} seconds\\n\")\n",
    "print(output)\n"
   ]
  },
  {
   "cell_type": "code",
   "execution_count": null,
   "id": "43a08073",
   "metadata": {},
   "outputs": [],
   "source": []
  }
 ],
 "metadata": {
  "kernelspec": {
   "display_name": "Python (COMP 4800)",
   "language": "python",
   "name": "comp_4800_llm_testing"
  },
  "language_info": {
   "codemirror_mode": {
    "name": "ipython",
    "version": 3
   },
   "file_extension": ".py",
   "mimetype": "text/x-python",
   "name": "python",
   "nbconvert_exporter": "python",
   "pygments_lexer": "ipython3",
   "version": "3.11.7"
  }
 },
 "nbformat": 4,
 "nbformat_minor": 5
}
