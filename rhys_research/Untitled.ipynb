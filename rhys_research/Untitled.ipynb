{
 "cells": [
  {
   "cell_type": "code",
   "execution_count": 1,
   "id": "87dd2cad-d72b-4a38-b7b1-58b2eab74cca",
   "metadata": {},
   "outputs": [],
   "source": [
    "# Used to track processing time\n",
    "import time\n",
    "\n",
    "# Use to write a file with the current datetime\n",
    "import datetime\n",
    "import os\n",
    "\n",
    "from textwrap import dedent\n",
    "from langchain_community.llms import Ollama\n",
    "from crewai import Crew, Agent, Task"
   ]
  },
  {
   "cell_type": "code",
   "execution_count": null,
   "id": "8e80880a-1b08-4498-9fbd-c712b6fbccf5",
   "metadata": {},
   "outputs": [],
   "source": []
  }
 ],
 "metadata": {
  "kernelspec": {
   "display_name": "LLM Swarm Env",
   "language": "python",
   "name": "llm-swarm-kernel"
  },
  "language_info": {
   "codemirror_mode": {
    "name": "ipython",
    "version": 3
   },
   "file_extension": ".py",
   "mimetype": "text/x-python",
   "name": "python",
   "nbconvert_exporter": "python",
   "pygments_lexer": "ipython3",
   "version": "3.11.4"
  }
 },
 "nbformat": 4,
 "nbformat_minor": 5
}
